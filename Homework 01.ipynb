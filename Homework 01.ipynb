{
 "cells": [
  {
   "cell_type": "markdown",
   "id": "c326c33f-f7f4-4f83-ba4f-05852e6992d0",
   "metadata": {},
   "source": [
    "## Problem 1\n",
    "\n",
    "Consider AR(2) process\n",
    "$$\n",
    "X_t = X_{t-1} - \\tfrac12 X_{t-2} + Z_t\n",
    "$$\n",
    "\n",
    "1. Find the characteristic polynomial $\\phi(B)$.\n",
    "2. Write out equation $\\phi(B) = 0$, find its roots.s\n",
    "3. Locate roots in or out cmoplex unit circle, make conclusion about stationarity.\n",
    "4. Write out concrete Yule-Walker equation for $k=1$, use it to find ACF at lag 1, $\\rho(1)$.\n",
    "5. Write out Yule-Walker equation for $k > 1$, its general form solution for $\\rho(k)$.\n",
    "6. Write out auxillary equation, find its roots, make conclusion about form of ACF $\\rho(k)$ (gradual decay vs damped sinusoid).\n",
    "\n",
    "Bonus:\n",
    "1. Rewrite roots of auxillary equation as trigonometric functions.\n",
    "2. Using roots of auxillary equation, $\\rho(0)$, $\\rho(1)$ and a lot of trigonometry, find concrete expression for $\\rho(k)$."
   ]
  },
  {
   "cell_type": "markdown",
   "id": "d6f54fce-8f9b-4474-8a7d-b0bb6afdaf91",
   "metadata": {},
   "source": [
    "## Problem 2\n",
    "\n",
    "Consider ARMA(1, 1) process\n",
    "$$\n",
    "X_t = 0.5 X_{t-1} + Z_t - 0.3 Z_{t-1}\n",
    "$$\n",
    "\n",
    "1. Find the characteristic polynomial $\\phi(B)$.\n",
    "2. Find the characteristic polynomial $\\theta(B)$.\n",
    "3. Find the characteristic polynomial $\\psi(B) = \\theta(B) / \\phi(B)$.\n",
    "4. Find the characteristic polynomial $\\pi(B) = \\phi(B) / \\theta(B)$.\n",
    "5. Make conclusions about stationarity."
   ]
  },
  {
   "cell_type": "markdown",
   "id": "8ec1e43b-c2a8-422b-a7db-6c2ce9db4f9c",
   "metadata": {},
   "source": [
    "## Problem 3\n",
    "\n",
    "For ARIMA model\n",
    "$$\n",
    "(1 - B) (1 - 0.2 B) X_t = (1 - 0.5 B) Z_t\n",
    "$$\n",
    "\n",
    "1. Identify $p, d, q$\n",
    "2. Determine if this process is stationary, if it is invertible.\n",
    "3. Find first three coefficients in $\\psi(B) = \\theta(B) / \\phi(B)$.\n",
    "4. Find first four coefficients in $\\pi(B) = \\phi(B) / \\theta(B)$.\n",
    "5. Compare with coefficients from Problem 2, note the difference and try to guess its origin.\n",
    "6. Use the model equation to find expressions for one- and two-step ahead predictions. Try to guess the recursive form for $k$-step-ahead prediction."
   ]
  },
  {
   "cell_type": "markdown",
   "id": "75792739-869e-40b5-81f8-f354d1db7430",
   "metadata": {},
   "source": [
    "## Problem 4\n",
    "\n",
    "Install data from [here](https://pypi.org/project/astsadata/)"
   ]
  },
  {
   "cell_type": "code",
   "execution_count": 1,
   "id": "23e1f992-bd7c-4105-bd16-680bb901c67a",
   "metadata": {},
   "outputs": [
    {
     "name": "stdout",
     "output_type": "stream",
     "text": [
      "\u001b[31mERROR: Could not find a version that satisfies the requirement astsdata (from versions: none)\u001b[0m\u001b[31m\n",
      "\u001b[0m\u001b[31mERROR: No matching distribution found for astsdata\u001b[0m\u001b[31m\n",
      "\u001b[0m"
     ]
    }
   ],
   "source": [
    "!pip install astsdata"
   ]
  },
  {
   "cell_type": "markdown",
   "id": "80cd339a-1d76-4a52-ad54-a44f5bbddd99",
   "metadata": {},
   "source": [
    "Pick a dataset to your liking (descriptions [here]([here](https://github.com/nickpoison/astsa/blob/master/fun_with_astsa/fun_with_astsa.md#1-data)))"
   ]
  },
  {
   "cell_type": "code",
   "execution_count": 2,
   "id": "beebd610-af99-45c6-9638-d892a03dc4b8",
   "metadata": {},
   "outputs": [],
   "source": [
    "import pandas as pd"
   ]
  },
  {
   "cell_type": "code",
   "execution_count": 3,
   "id": "d381ef7b-2c24-4162-a180-fb682f72e769",
   "metadata": {
    "scrolled": true
   },
   "outputs": [
    {
     "name": "stderr",
     "output_type": "stream",
     "text": [
      "/Users/nstulov/miniconda3/envs/msai/lib/python3.12/site-packages/astsadata/astsadata.py:15: UserWarning: Could not infer format, so each element will be parsed individually, falling back to `dateutil`. To ensure parsing is consistent and as-expected, please specify a format.\n",
      "  birth = pd.read_csv(f\"{path}/data/birth.csv\", index_col=0, parse_dates=True)\n",
      "/Users/nstulov/miniconda3/envs/msai/lib/python3.12/site-packages/astsadata/astsadata.py:27: UserWarning: Could not infer format, so each element will be parsed individually, falling back to `dateutil`. To ensure parsing is consistent and as-expected, please specify a format.\n",
      "  cardox = pd.read_csv(f\"{path}/data/cardox.csv\", index_col=0, parse_dates=True)\n",
      "/Users/nstulov/miniconda3/envs/msai/lib/python3.12/site-packages/astsadata/astsadata.py:30: UserWarning: Could not infer format, so each element will be parsed individually, falling back to `dateutil`. To ensure parsing is consistent and as-expected, please specify a format.\n",
      "  chicken = pd.read_csv(f\"{path}/data/chicken.csv\", index_col=0, parse_dates=True)\n",
      "/Users/nstulov/miniconda3/envs/msai/lib/python3.12/site-packages/astsadata/astsadata.py:36: UserWarning: Converting to PeriodArray/Index representation will drop timezone information.\n",
      "  cmort.index = cmort.index.to_period(\"W\")\n",
      "/Users/nstulov/miniconda3/envs/msai/lib/python3.12/site-packages/astsadata/astsadata.py:54: UserWarning: Could not infer format, so each element will be parsed individually, falling back to `dateutil`. To ensure parsing is consistent and as-expected, please specify a format.\n",
      "  flu = pd.read_csv(f\"{path}/data/flu.csv\", index_col=0, parse_dates=True)\n",
      "/Users/nstulov/miniconda3/envs/msai/lib/python3.12/site-packages/astsadata/astsadata.py:61: UserWarning: Converting to PeriodArray/Index representation will drop timezone information.\n",
      "  gas.index = gas.index.to_period(\"W\")\n",
      "/Users/nstulov/miniconda3/envs/msai/lib/python3.12/site-packages/astsadata/astsadata.py:63: UserWarning: Could not infer format, so each element will be parsed individually, falling back to `dateutil`. To ensure parsing is consistent and as-expected, please specify a format.\n",
      "  gdp = pd.read_csv(f\"{path}/data/gdp.csv\", index_col=0, parse_dates=True)\n",
      "/Users/nstulov/miniconda3/envs/msai/lib/python3.12/site-packages/astsadata/astsadata.py:72: UserWarning: Could not infer format, so each element will be parsed individually, falling back to `dateutil`. To ensure parsing is consistent and as-expected, please specify a format.\n",
      "  gnp = pd.read_csv(f\"{path}/data/gnp.csv\", index_col=0, parse_dates=True)\n",
      "/Users/nstulov/miniconda3/envs/msai/lib/python3.12/site-packages/astsadata/astsadata.py:90: UserWarning: Could not infer format, so each element will be parsed individually, falling back to `dateutil`. To ensure parsing is consistent and as-expected, please specify a format.\n",
      "  hor = pd.read_csv(f\"{path}/data/hor.csv\", index_col=0, parse_dates=True)\n",
      "/Users/nstulov/miniconda3/envs/msai/lib/python3.12/site-packages/astsadata/astsadata.py:93: UserWarning: Could not infer format, so each element will be parsed individually, falling back to `dateutil`. To ensure parsing is consistent and as-expected, please specify a format.\n",
      "  jj = pd.read_csv(f\"{path}/data/jj.csv\", index_col=0, parse_dates=True)\n",
      "/Users/nstulov/miniconda3/envs/msai/lib/python3.12/site-packages/astsadata/astsadata.py:97: UserWarning: Converting to PeriodArray/Index representation will drop timezone information.\n",
      "  lap.index = lap.index.to_period(\"W\")\n",
      "/Users/nstulov/miniconda3/envs/msai/lib/python3.12/site-packages/astsadata/astsadata.py:109: UserWarning: Converting to PeriodArray/Index representation will drop timezone information.\n",
      "  oil.index = oil.index.to_period(\"W\")\n",
      "/Users/nstulov/miniconda3/envs/msai/lib/python3.12/site-packages/astsadata/astsadata.py:112: UserWarning: Converting to PeriodArray/Index representation will drop timezone information.\n",
      "  part.index = part.index.to_period(\"W\")\n",
      "/Users/nstulov/miniconda3/envs/msai/lib/python3.12/site-packages/astsadata/astsadata.py:117: UserWarning: Could not infer format, so each element will be parsed individually, falling back to `dateutil`. To ensure parsing is consistent and as-expected, please specify a format.\n",
      "  polio = pd.read_csv(f\"{path}/data/polio.csv\", index_col=0, parse_dates=True)\n",
      "/Users/nstulov/miniconda3/envs/msai/lib/python3.12/site-packages/astsadata/astsadata.py:120: UserWarning: Could not infer format, so each element will be parsed individually, falling back to `dateutil`. To ensure parsing is consistent and as-expected, please specify a format.\n",
      "  prodn = pd.read_csv(f\"{path}/data/prodn.csv\", index_col=0, parse_dates=True)\n",
      "/Users/nstulov/miniconda3/envs/msai/lib/python3.12/site-packages/astsadata/astsadata.py:123: UserWarning: Could not infer format, so each element will be parsed individually, falling back to `dateutil`. To ensure parsing is consistent and as-expected, please specify a format.\n",
      "  qinfl = pd.read_csv(f\"{path}/data/qinfl.csv\", index_col=0, parse_dates=True)\n",
      "/Users/nstulov/miniconda3/envs/msai/lib/python3.12/site-packages/astsadata/astsadata.py:126: UserWarning: Could not infer format, so each element will be parsed individually, falling back to `dateutil`. To ensure parsing is consistent and as-expected, please specify a format.\n",
      "  qintr = pd.read_csv(f\"{path}/data/qintr.csv\", index_col=0, parse_dates=True)\n",
      "/Users/nstulov/miniconda3/envs/msai/lib/python3.12/site-packages/astsadata/astsadata.py:129: UserWarning: Could not infer format, so each element will be parsed individually, falling back to `dateutil`. To ensure parsing is consistent and as-expected, please specify a format.\n",
      "  rec = pd.read_csv(f\"{path}/data/rec.csv\", index_col=0, parse_dates=True)\n",
      "/Users/nstulov/miniconda3/envs/msai/lib/python3.12/site-packages/astsadata/astsadata.py:135: UserWarning: Could not infer format, so each element will be parsed individually, falling back to `dateutil`. To ensure parsing is consistent and as-expected, please specify a format.\n",
      "  salmon = pd.read_csv(f\"{path}/data/salmon.csv\", index_col=0, parse_dates=True)\n",
      "/Users/nstulov/miniconda3/envs/msai/lib/python3.12/site-packages/astsadata/astsadata.py:145: UserWarning: Converting to PeriodArray/Index representation will drop timezone information.\n",
      "  so2.index = so2.index.to_period(\"W\")\n",
      "/Users/nstulov/miniconda3/envs/msai/lib/python3.12/site-packages/astsadata/astsadata.py:147: UserWarning: Could not infer format, so each element will be parsed individually, falling back to `dateutil`. To ensure parsing is consistent and as-expected, please specify a format.\n",
      "  soi = pd.read_csv(f\"{path}/data/soi.csv\", index_col=0, parse_dates=True)\n",
      "/Users/nstulov/miniconda3/envs/msai/lib/python3.12/site-packages/astsadata/astsadata.py:158: UserWarning: Could not infer format, so each element will be parsed individually, falling back to `dateutil`. To ensure parsing is consistent and as-expected, please specify a format.\n",
      "  sunspotz = pd.read_csv(f\"{path}/data/sunspotz.csv\", index_col=0, parse_dates=True)\n",
      "/Users/nstulov/miniconda3/envs/msai/lib/python3.12/site-packages/astsadata/astsadata.py:162: UserWarning: Converting to PeriodArray/Index representation will drop timezone information.\n",
      "  tempr.index = tempr.index.to_period(\"W\")\n",
      "/Users/nstulov/miniconda3/envs/msai/lib/python3.12/site-packages/astsadata/astsadata.py:164: UserWarning: Could not infer format, so each element will be parsed individually, falling back to `dateutil`. To ensure parsing is consistent and as-expected, please specify a format.\n",
      "  unemp = pd.read_csv(f\"{path}/data/unemp.csv\", index_col=0, parse_dates=True)\n",
      "/Users/nstulov/miniconda3/envs/msai/lib/python3.12/site-packages/astsadata/astsadata.py:167: UserWarning: Could not infer format, so each element will be parsed individually, falling back to `dateutil`. To ensure parsing is consistent and as-expected, please specify a format.\n",
      "  UnempRate = pd.read_csv(f\"{path}/data/UnempRate.csv\", index_col=0, parse_dates=True)\n",
      "/Users/nstulov/miniconda3/envs/msai/lib/python3.12/site-packages/astsadata/astsadata.py:176: FutureWarning: The argument 'date_parser' is deprecated and will be removed in a future version. Please use 'date_format' instead, or read your data in as 'object' dtype and then call 'to_datetime'.\n",
      "  djia = pd.read_csv(\n",
      "/Users/nstulov/miniconda3/envs/msai/lib/python3.12/site-packages/astsadata/astsadata.py:180: FutureWarning: The behavior of 'to_datetime' with 'unit' when parsing strings is deprecated. In a future version, strings will be parsed as datetime strings, matching the behavior without a 'unit'. To retain the old behavior, explicitly cast ints or floats to numeric type before calling to_datetime.\n",
      "  date_parser=lambda x: pd.to_datetime(x, unit=\"s\"),\n",
      "/Users/nstulov/miniconda3/envs/msai/lib/python3.12/site-packages/astsadata/astsadata.py:182: FutureWarning: PeriodDtype[B] is deprecated and will be removed in a future version. Use a DatetimeIndex with freq='B' instead\n",
      "  djia.index = djia.index.to_period(\"B\")\n"
     ]
    }
   ],
   "source": [
    "from astsadata import jj"
   ]
  },
  {
   "cell_type": "code",
   "execution_count": 4,
   "id": "ea8affae-1329-49bc-a695-cae8980fea53",
   "metadata": {},
   "outputs": [
    {
     "data": {
      "text/html": [
       "<div>\n",
       "<style scoped>\n",
       "    .dataframe tbody tr th:only-of-type {\n",
       "        vertical-align: middle;\n",
       "    }\n",
       "\n",
       "    .dataframe tbody tr th {\n",
       "        vertical-align: top;\n",
       "    }\n",
       "\n",
       "    .dataframe thead th {\n",
       "        text-align: right;\n",
       "    }\n",
       "</style>\n",
       "<table border=\"1\" class=\"dataframe\">\n",
       "  <thead>\n",
       "    <tr style=\"text-align: right;\">\n",
       "      <th></th>\n",
       "      <th>value</th>\n",
       "    </tr>\n",
       "    <tr>\n",
       "      <th>index</th>\n",
       "      <th></th>\n",
       "    </tr>\n",
       "  </thead>\n",
       "  <tbody>\n",
       "    <tr>\n",
       "      <th>1960Q1</th>\n",
       "      <td>0.71</td>\n",
       "    </tr>\n",
       "    <tr>\n",
       "      <th>1960Q2</th>\n",
       "      <td>0.63</td>\n",
       "    </tr>\n",
       "    <tr>\n",
       "      <th>1960Q3</th>\n",
       "      <td>0.85</td>\n",
       "    </tr>\n",
       "    <tr>\n",
       "      <th>1960Q4</th>\n",
       "      <td>0.44</td>\n",
       "    </tr>\n",
       "    <tr>\n",
       "      <th>1961Q1</th>\n",
       "      <td>0.61</td>\n",
       "    </tr>\n",
       "  </tbody>\n",
       "</table>\n",
       "</div>"
      ],
      "text/plain": [
       "        value\n",
       "index        \n",
       "1960Q1   0.71\n",
       "1960Q2   0.63\n",
       "1960Q3   0.85\n",
       "1960Q4   0.44\n",
       "1961Q1   0.61"
      ]
     },
     "execution_count": 4,
     "metadata": {},
     "output_type": "execute_result"
    }
   ],
   "source": [
    "jj.head()"
   ]
  },
  {
   "cell_type": "code",
   "execution_count": 5,
   "id": "9127ca2c-9c96-47d1-967c-df4288c0f1c5",
   "metadata": {},
   "outputs": [],
   "source": [
    "freq = jj.index.freq.freqstr"
   ]
  },
  {
   "cell_type": "markdown",
   "id": "a4330fc8-11e4-47bf-a010-eec60c443689",
   "metadata": {},
   "source": [
    "Create a TimeSeries object, minding the frequency"
   ]
  },
  {
   "cell_type": "code",
   "execution_count": 6,
   "id": "702172e6-c2e8-463b-9daa-734aefd1cf74",
   "metadata": {},
   "outputs": [],
   "source": [
    "from darts import TimeSeries"
   ]
  },
  {
   "cell_type": "code",
   "execution_count": 7,
   "id": "b45d70f3-abc2-4878-9798-5da181c675a4",
   "metadata": {
    "scrolled": true
   },
   "outputs": [],
   "source": [
    "jj_ts = TimeSeries.from_series(\n",
    "    jj.set_index(\n",
    "        pd.date_range(\n",
    "            jj.index[0].start_time.date(),\n",
    "            periods=len(jj),\n",
    "            freq=freq,\n",
    "            inclusive=\"both\"\n",
    "        )\n",
    "    )\n",
    ")"
   ]
  },
  {
   "cell_type": "code",
   "execution_count": 8,
   "id": "221d01bf-6252-4510-8b7f-c9757316014e",
   "metadata": {},
   "outputs": [
    {
     "data": {
      "text/plain": [
       "<Axes: xlabel='time'>"
      ]
     },
     "execution_count": 8,
     "metadata": {},
     "output_type": "execute_result"
    },
    {
     "data": {
      "image/png": "[encoded data removed]",
      "text/plain": [
       "<Figure size 640x480 with 1 Axes>"
      ]
     },
     "metadata": {},
     "output_type": "display_data"
    }
   ],
   "source": [
    "jj_ts.plot()"
   ]
  },
  {
   "cell_type": "markdown",
   "id": "38a79644-c29b-46ed-a1c8-4da102f762af",
   "metadata": {},
   "source": [
    "## Visualize data\n",
    "\n",
    "1. Make a plot of the series\n",
    "2. Analyze the distribution of the feature using histogram of its values\n",
    "3. In case the variance is not constant, make a transformation (e.g. log)\n",
    "4. Make conclusions about variation (trends, seasonality, cycles)\n",
    "5. Split your data into train and test"
   ]
  },
  {
   "cell_type": "code",
   "execution_count": 9,
   "id": "e68cab98-0628-42b8-8229-45aec5fd0336",
   "metadata": {},
   "outputs": [],
   "source": [
    "# your code here"
   ]
  },
  {
   "cell_type": "markdown",
   "id": "e99b5a7a-e002-49c1-90eb-a9cc211c28d1",
   "metadata": {},
   "source": [
    "## Estimate ARIMA\n",
    "\n",
    "1. Plot series, perform statistical tests for stationarity, make conclusions about differencing order $D$ and $d$\n",
    "2. Plot ACF and PACF, find model orders $p$, $q$ and $P, Q$\n",
    "3. Fit a SARIMA model on train set\n",
    "4. Check the properties of residuals\n",
    "5. Fit an AutoARIMA on train set, try supplying it with e.g. $start_p$ that you found\n",
    "6. Check the properties of residuals\n",
    "7. Make forecasts with your ARIMA and AutoARIMA on test set"
   ]
  },
  {
   "cell_type": "code",
   "execution_count": null,
   "id": "c1200985-e029-4d93-95cb-4728513bbcb4",
   "metadata": {},
   "outputs": [],
   "source": [
    "import statsmodels.api as sm\n",
    "import statsmodels.tsa.api as tsa # tsa.stattools.kpss, tsa.stattools.adfuller"
   ]
  },
  {
   "cell_type": "code",
   "execution_count": null,
   "id": "167b49ab-1ecd-4310-b492-b2147c88d12d",
   "metadata": {},
   "outputs": [],
   "source": [
    "from darts.utils.statistics import plot_acf, plot_pacf"
   ]
  },
  {
   "cell_type": "code",
   "execution_count": null,
   "id": "3cfb6de4-29ba-400d-8b24-60ae29a378fa",
   "metadata": {},
   "outputs": [],
   "source": [
    "from darts.models import ARIMA, StatsForecastAutoARIMA"
   ]
  },
  {
   "cell_type": "code",
   "execution_count": 10,
   "id": "72dcd345-42f2-43f1-8f6f-2af84d806e36",
   "metadata": {},
   "outputs": [],
   "source": [
    "# your code here"
   ]
  },
  {
   "cell_type": "markdown",
   "id": "24ec05e9-4f2b-4dd5-a60e-ccd03f0a5371",
   "metadata": {},
   "source": [
    "## Estimate ETS\n",
    "\n",
    "1. Use AutoETS to find the optimal combination of trend/seasonality/error on train set\n",
    "3. Check the properties of residuals\n",
    "4. Make forecast on test set"
   ]
  },
  {
   "cell_type": "code",
   "execution_count": null,
   "id": "3fd03f9c-50bc-422e-9f56-48f0b4fcba2a",
   "metadata": {},
   "outputs": [],
   "source": [
    "from darts.models import StatsForecastAutoETS"
   ]
  },
  {
   "cell_type": "code",
   "execution_count": 11,
   "id": "3ca7e9d9-c742-4f6b-80a7-3816b265d2e9",
   "metadata": {},
   "outputs": [],
   "source": [
    "# your code here"
   ]
  },
  {
   "cell_type": "markdown",
   "id": "91c864f5-1766-4e52-b0cf-3caa13903ed0",
   "metadata": {},
   "source": [
    "## Compare\n",
    "\n",
    "Compare the models on test set using MSE."
   ]
  },
  {
   "cell_type": "code",
   "execution_count": 12,
   "id": "1130a5c1-3104-4c5f-8908-0794d6fc0337",
   "metadata": {},
   "outputs": [],
   "source": [
    "# your code here"
   ]
  }
 ],
 "metadata": {
  "kernelspec": {
   "display_name": "Python 3 (ipykernel)",
   "language": "python",
   "name": "python3"
  },
  "language_info": {
   "codemirror_mode": {
    "name": "ipython",
    "version": 3
   },
   "file_extension": ".py",
   "mimetype": "text/x-python",
   "name": "python",
   "nbconvert_exporter": "python",
   "pygments_lexer": "ipython3",
   "version": "3.12.0"
  }
 },
 "nbformat": 4,
 "nbformat_minor": 5
}
